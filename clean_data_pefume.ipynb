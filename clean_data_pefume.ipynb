{
 "cells": [
  {
   "cell_type": "code",
   "execution_count": 1,
   "metadata": {},
   "outputs": [
    {
     "ename": "UnicodeDecodeError",
     "evalue": "'utf-8' codec can't decode byte 0xb5 in position 14: invalid start byte",
     "output_type": "error",
     "traceback": [
      "\u001b[1;31m---------------------------------------------------------------------------\u001b[0m",
      "\u001b[1;31mUnicodeDecodeError\u001b[0m                        Traceback (most recent call last)",
      "\u001b[1;32m<ipython-input-1-e4523be683cb>\u001b[0m in \u001b[0;36m<module>\u001b[1;34m()\u001b[0m\n\u001b[0;32m      5\u001b[0m \u001b[1;32mwith\u001b[0m \u001b[0mopen\u001b[0m\u001b[1;33m(\u001b[0m\u001b[1;34m'aaa.csv'\u001b[0m\u001b[1;33m,\u001b[0m \u001b[1;34m'r'\u001b[0m\u001b[1;33m,\u001b[0m\u001b[0mencoding\u001b[0m\u001b[1;33m=\u001b[0m\u001b[1;34m'utf_8'\u001b[0m\u001b[1;33m)\u001b[0m \u001b[1;32mas\u001b[0m \u001b[0mf\u001b[0m\u001b[1;33m:\u001b[0m\u001b[1;33m\u001b[0m\u001b[0m\n\u001b[0;32m      6\u001b[0m     \u001b[0mreader\u001b[0m \u001b[1;33m=\u001b[0m \u001b[0mcsv\u001b[0m\u001b[1;33m.\u001b[0m\u001b[0mreader\u001b[0m\u001b[1;33m(\u001b[0m\u001b[0mf\u001b[0m\u001b[1;33m)\u001b[0m\u001b[1;33m\u001b[0m\u001b[0m\n\u001b[1;32m----> 7\u001b[1;33m     \u001b[1;32mfor\u001b[0m \u001b[0mline\u001b[0m \u001b[1;32min\u001b[0m \u001b[0mf\u001b[0m\u001b[1;33m:\u001b[0m\u001b[1;33m\u001b[0m\u001b[0m\n\u001b[0m\u001b[0;32m      8\u001b[0m         \u001b[0mNames_perfume\u001b[0m \u001b[1;33m=\u001b[0m \u001b[1;33m[\u001b[0m\u001b[0mrow\u001b[0m\u001b[1;33m[\u001b[0m\u001b[1;36m0\u001b[0m\u001b[1;33m]\u001b[0m \u001b[1;32mfor\u001b[0m \u001b[0mrow\u001b[0m \u001b[1;32min\u001b[0m \u001b[0mreader\u001b[0m\u001b[1;33m]\u001b[0m\u001b[1;33m\u001b[0m\u001b[0m\n\u001b[0;32m      9\u001b[0m         \u001b[0mWhole_info\u001b[0m \u001b[1;33m=\u001b[0m \u001b[1;33m[\u001b[0m\u001b[0mrow\u001b[0m\u001b[1;33m[\u001b[0m\u001b[1;36m1\u001b[0m\u001b[1;33m]\u001b[0m \u001b[1;32mfor\u001b[0m \u001b[0mrow\u001b[0m \u001b[1;32min\u001b[0m \u001b[0mreader\u001b[0m\u001b[1;33m]\u001b[0m\u001b[1;33m\u001b[0m\u001b[0m\n",
      "\u001b[1;32m~\\Anaconda3\\lib\\codecs.py\u001b[0m in \u001b[0;36mdecode\u001b[1;34m(self, input, final)\u001b[0m\n\u001b[0;32m    319\u001b[0m         \u001b[1;31m# decode input (taking the buffer into account)\u001b[0m\u001b[1;33m\u001b[0m\u001b[1;33m\u001b[0m\u001b[0m\n\u001b[0;32m    320\u001b[0m         \u001b[0mdata\u001b[0m \u001b[1;33m=\u001b[0m \u001b[0mself\u001b[0m\u001b[1;33m.\u001b[0m\u001b[0mbuffer\u001b[0m \u001b[1;33m+\u001b[0m \u001b[0minput\u001b[0m\u001b[1;33m\u001b[0m\u001b[0m\n\u001b[1;32m--> 321\u001b[1;33m         \u001b[1;33m(\u001b[0m\u001b[0mresult\u001b[0m\u001b[1;33m,\u001b[0m \u001b[0mconsumed\u001b[0m\u001b[1;33m)\u001b[0m \u001b[1;33m=\u001b[0m \u001b[0mself\u001b[0m\u001b[1;33m.\u001b[0m\u001b[0m_buffer_decode\u001b[0m\u001b[1;33m(\u001b[0m\u001b[0mdata\u001b[0m\u001b[1;33m,\u001b[0m \u001b[0mself\u001b[0m\u001b[1;33m.\u001b[0m\u001b[0merrors\u001b[0m\u001b[1;33m,\u001b[0m \u001b[0mfinal\u001b[0m\u001b[1;33m)\u001b[0m\u001b[1;33m\u001b[0m\u001b[0m\n\u001b[0m\u001b[0;32m    322\u001b[0m         \u001b[1;31m# keep undecoded input until the next call\u001b[0m\u001b[1;33m\u001b[0m\u001b[1;33m\u001b[0m\u001b[0m\n\u001b[0;32m    323\u001b[0m         \u001b[0mself\u001b[0m\u001b[1;33m.\u001b[0m\u001b[0mbuffer\u001b[0m \u001b[1;33m=\u001b[0m \u001b[0mdata\u001b[0m\u001b[1;33m[\u001b[0m\u001b[0mconsumed\u001b[0m\u001b[1;33m:\u001b[0m\u001b[1;33m]\u001b[0m\u001b[1;33m\u001b[0m\u001b[0m\n",
      "\u001b[1;31mUnicodeDecodeError\u001b[0m: 'utf-8' codec can't decode byte 0xb5 in position 14: invalid start byte"
     ]
    }
   ],
   "source": [
    "import csv\n",
    "Names_perfume=[]\n",
    "Whole_info = []\n",
    "Score = []\n",
    "with open('aaa.csv', 'r',encoding='utf_8') as f:\n",
    "    reader = csv.reader(f)\n",
    "    for line in f:\n",
    "        Names_perfume = [row[0] for row in reader]\n",
    "        Whole_info = [row[1] for row in reader]\n",
    "        Score = [row[2] for row in reader]"
   ]
  },
  {
   "cell_type": "code",
   "execution_count": 2,
   "metadata": {},
   "outputs": [
    {
     "name": "stdout",
     "output_type": "stream",
     "text": [
      "['皇家香氛', '皇家香氛', '皇家香氛', '皇家香氛', '皇家香氛', '皇家香氛', '皇家香氛', '皇家香氛', '皇家香氛', '皇家香氛']\n",
      "['Parfums', 'Parfums', 'Parfums', 'Parfums', 'Parfums', 'Parfums', 'Parfums', 'Parfums', 'Parfums', 'Parfums']\n"
     ]
    }
   ],
   "source": [
    "Brand_names = []\n",
    "Chinese_names = []\n",
    "for i in Names_perfume:\n",
    "    i = i.split(\" \")\n",
    "    bn = i[0]\n",
    "    cn = i[1]\n",
    "    #i = re.sub(r'[^\\u4e00-\\u9fa5]','',i)\n",
    "    Brand_names.append(bn)\n",
    "    Chinese_names.append(cn)\n",
    "print(Brand_names[:10])      \n",
    "print(Chinese_names[:10])   "
   ]
  },
  {
   "cell_type": "code",
   "execution_count": 3,
   "metadata": {},
   "outputs": [
    {
     "name": "stdout",
     "output_type": "stream",
     "text": [
      "['Parfums Regence Lavendou', 'Parfums Regence Eau De Regence', 'Parfums Regence Lavandou', 'Parfums Regence Oakmoss', 'Parfums Regence Vert Regence', 'Parfums Regence Santal', 'Parfums Regence Eau De Regence', 'Parfums Regence Santal', 'Parfums Regence Kolnisch Juchten', 'Parfums Regence Kolnisch Juchten']\n"
     ]
    }
   ],
   "source": [
    "import re\n",
    "English_names = []\n",
    "for i in Names_perfume:\n",
    "    i = i.split(\", \")\n",
    "    i = i[0]\n",
    "    i = re.sub(r'[\\u4e00-\\u9fa5]','',i)\n",
    "    i = re.sub(r'[0-9]','',i) \n",
    "    i = re.sub(r'（）','',i)\n",
    "    i = re.sub(r'(^\\s+)','',i) \n",
    "    English_names.append(i)\n",
    "print(English_names[:10])    "
   ]
  },
  {
   "cell_type": "code",
   "execution_count": 4,
   "metadata": {},
   "outputs": [
    {
     "name": "stdout",
     "output_type": "stream",
     "text": [
      "['None', 'None', 'None', 'None', 'None', 'None', 'None', 'None', 'None', 'None']\n"
     ]
    }
   ],
   "source": [
    "Years = []\n",
    "for i in Names_perfume:\n",
    "    if not \",\" in i:\n",
    "        Years.append(\"None\")\n",
    "    else:\n",
    "        i = i.split(\",\")\n",
    "        i = i[-1]\n",
    "        i = re.sub(r'(^\\s+)','',i)\n",
    "        Years.append(i)\n",
    "print(Years[:10])"
   ]
  },
  {
   "cell_type": "code",
   "execution_count": 5,
   "metadata": {},
   "outputs": [],
   "source": [
    "Score_number=[]\n",
    "for i in Score:\n",
    "    i = i.split(\"分(\")\n",
    "    i = i[0]\n",
    "    Score_number.append(i) "
   ]
  },
  {
   "cell_type": "code",
   "execution_count": 6,
   "metadata": {},
   "outputs": [],
   "source": [
    "Reply_number = []\n",
    "for i in Score:\n",
    "    i = i.split(\"分(\")\n",
    "    i = i[-1]\n",
    "    i = i.strip(\"评价)\")\n",
    "    Reply_number.append(i)"
   ]
  },
  {
   "cell_type": "code",
   "execution_count": 7,
   "metadata": {},
   "outputs": [],
   "source": [
    "Alone = []\n",
    "Main_info = []\n",
    "for i in Whole_info:\n",
    "    if re.findall(r\"^气味\",i):\n",
    "        alone = i.replace(\",\",\"/n\")\n",
    "        Alone.append(alone)\n",
    "    else:\n",
    "        Main_info.append(i)"
   ]
  },
  {
   "cell_type": "code",
   "execution_count": 8,
   "metadata": {},
   "outputs": [],
   "source": [
    "Top = []\n",
    "for i in Main_info:\n",
    "    i = i.strip(\"前调：\")\n",
    "    i = i.split(\"中调\") \n",
    "    top = i[0]\n",
    "    top = top.replace(\",\",\"/n\")\n",
    "    Top.append(top)"
   ]
  },
  {
   "cell_type": "code",
   "execution_count": 9,
   "metadata": {},
   "outputs": [],
   "source": [
    "Middle = []\n",
    "for i in Main_info:\n",
    "    i = i.split(\"后调\")\n",
    "    top_middle = i[0]\n",
    "    top_middle_new = top_middle.split(\"中调\")\n",
    "    middle = top_middle_new[-1]\n",
    "    middle = middle.strip(\"：\")\n",
    "    middle = middle.replace(\",\",\"/n\")\n",
    "    Middle.append(middle)"
   ]
  },
  {
   "cell_type": "code",
   "execution_count": 10,
   "metadata": {},
   "outputs": [],
   "source": [
    "Base = []\n",
    "for i in Main_info:\n",
    "    i = i.split(\"后调\")\n",
    "    base = i[-1]\n",
    "    base = base.strip(\"：\")\n",
    "    base = base.replace(\",\",\"/n\")\n",
    "    Base.append(base)"
   ]
  },
  {
   "cell_type": "code",
   "execution_count": 11,
   "metadata": {},
   "outputs": [
    {
     "name": "stdout",
     "output_type": "stream",
     "text": [
      "<class 'pandas.core.frame.DataFrame'>\n",
      "RangeIndex: 0 entries\n",
      "Data columns (total 4 columns):\n",
      "Top       0 non-null float64\n",
      "Middle    0 non-null float64\n",
      "Base      0 non-null float64\n",
      "Alone     0 non-null float64\n",
      "dtypes: float64(4)\n",
      "memory usage: 76.0 bytes\n",
      "None\n"
     ]
    }
   ],
   "source": [
    "import csv\n",
    "import pandas as pd\n",
    "datapage1 = {\n",
    "    'Top': Top,\n",
    "    'Middle': Middle,\n",
    "    'Base': Base,\n",
    "    'Alone':Alone\n",
    "}\n",
    "pd_perfume = pd.DataFrame.from_dict(datapage1, orient ='index').transpose()\n",
    "print(pd_perfume.info())\n",
    "pd_perfume.to_csv('pd_perfume_threeattr.csv',index = False, encoding = 'utf_8_sig')"
   ]
  },
  {
   "cell_type": "code",
   "execution_count": 12,
   "metadata": {},
   "outputs": [
    {
     "name": "stdout",
     "output_type": "stream",
     "text": [
      "<class 'pandas.core.frame.DataFrame'>\n",
      "RangeIndex: 0 entries\n",
      "Data columns (total 4 columns):\n",
      "Top       0 non-null float64\n",
      "Middle    0 non-null float64\n",
      "Base      0 non-null float64\n",
      "Alone     0 non-null float64\n",
      "dtypes: float64(4)\n",
      "memory usage: 76.0 bytes\n",
      "None\n"
     ]
    }
   ],
   "source": [
    "import csv\n",
    "datapage2 = {\n",
    "    'Brand_names' : Brand_names,\n",
    "    'Chinese_names':Chinese_names,\n",
    "    'English_names':English_names,\n",
    "    'Whole_info': Whole_info,\n",
    "    'Years':Years,\n",
    "    'Score_number': Score_number,\n",
    "    'Reply_number': Reply_number,\n",
    "}\n",
    "pd_perfume_test_all = pd.DataFrame.from_dict(datapage2, orient ='index').transpose()\n",
    "print(pd_perfume.info())\n",
    "pd_perfume_test_all.to_csv('pd_perfume_all.csv',index = False, encoding = 'utf_8_sig')"
   ]
  },
  {
   "cell_type": "code",
   "execution_count": null,
   "metadata": {},
   "outputs": [],
   "source": []
  },
  {
   "cell_type": "code",
   "execution_count": null,
   "metadata": {},
   "outputs": [],
   "source": []
  },
  {
   "cell_type": "code",
   "execution_count": null,
   "metadata": {},
   "outputs": [],
   "source": []
  },
  {
   "cell_type": "code",
   "execution_count": null,
   "metadata": {},
   "outputs": [],
   "source": []
  },
  {
   "cell_type": "code",
   "execution_count": null,
   "metadata": {},
   "outputs": [],
   "source": []
  }
 ],
 "metadata": {
  "kernelspec": {
   "display_name": "Python 3",
   "language": "python",
   "name": "python3"
  },
  "language_info": {
   "codemirror_mode": {
    "name": "ipython",
    "version": 3
   },
   "file_extension": ".py",
   "mimetype": "text/x-python",
   "name": "python",
   "nbconvert_exporter": "python",
   "pygments_lexer": "ipython3",
   "version": "3.6.5"
  }
 },
 "nbformat": 4,
 "nbformat_minor": 2
}
